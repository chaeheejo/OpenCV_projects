{
 "cells": [
  {
   "cell_type": "code",
   "execution_count": 2,
   "metadata": {},
   "outputs": [
    {
     "name": "stdout",
     "output_type": "stream",
     "text": [
      "[1.15, 4, 2, 5, 3]\n",
      "<class 'list'>\n",
      "[1.15 4.   2.   5.   3.  ]\n",
      "<class 'numpy.ndarray'>\n"
     ]
    }
   ],
   "source": [
    "import numpy as np\n",
    "\n",
    "arr = [1.15, 4, 2, 5, 3] #타입이 일치하지 않을 경우, 상위 타입으로 호환\n",
    "n_arr = np.array(arr)\n",
    "\n",
    "print(arr) \n",
    "print(n_arr) "
   ]
  },
  {
   "cell_type": "code",
   "execution_count": 3,
   "metadata": {},
   "outputs": [
    {
     "name": "stdout",
     "output_type": "stream",
     "text": [
      "['1.15', 4, 2, 5, 3]\n",
      "<class 'list'>\n",
      "['1.15' '4' '2' '5' '3']\n",
      "<class 'numpy.ndarray'>\n"
     ]
    }
   ],
   "source": [
    "arr = ['1.15', 4, 2, 5, 3] #상위 타입, string으로 호환\n",
    "n_arr = np.array(arr)\n",
    "\n",
    "print(arr) \n",
    "print(n_arr) "
   ]
  },
  {
   "cell_type": "code",
   "execution_count": 4,
   "metadata": {},
   "outputs": [
    {
     "name": "stdout",
     "output_type": "stream",
     "text": [
      "[1, 4, 2, 5, 3]\n",
      "<class 'list'>\n",
      "[1. 4. 2. 5. 3.]\n",
      "<class 'numpy.ndarray'>\n"
     ]
    }
   ],
   "source": [
    "arr = [1, 4, 2, 5, 3] \n",
    "n_arr = np.array(arr, dtype='float32') #타입 지정, dtype\n",
    "\n",
    "print(arr) \n",
    "print(n_arr) "
   ]
  },
  {
   "cell_type": "code",
   "execution_count": 5,
   "metadata": {},
   "outputs": [
    {
     "name": "stdout",
     "output_type": "stream",
     "text": [
      "1\n",
      "1\n"
     ]
    }
   ],
   "source": [
    "num = np.array([1,4,2,3,4])\n",
    "\n",
    "#동일한 코드 ndim == len(num.shape)\n",
    "print(num.ndim)\n",
    "print(len(num.shape))"
   ]
  },
  {
   "cell_type": "code",
   "execution_count": 1,
   "metadata": {},
   "outputs": [
    {
     "name": "stdout",
     "output_type": "stream",
     "text": [
      "2\n",
      "6\n"
     ]
    }
   ],
   "source": [
    "num = np.array([[1,4,2],[3,5,4]])\n",
    "\n",
    "print(len(num)) #차원이 return\n",
    "print(num.size) #원소의 개수가 return"
   ]
  },
  {
   "cell_type": "code",
   "execution_count": 6,
   "metadata": {},
   "outputs": [
    {
     "name": "stdout",
     "output_type": "stream",
     "text": [
      "1\n",
      "0\n",
      "()\n"
     ]
    }
   ],
   "source": [
    "num = np.array(1)\n",
    "\n",
    "#인자 하나만 array에 넣으면 차원이 0\n",
    "print(num)\n",
    "print(num.ndim)\n",
    "print(num.shape)"
   ]
  },
  {
   "cell_type": "code",
   "execution_count": 9,
   "metadata": {},
   "outputs": [
    {
     "name": "stdout",
     "output_type": "stream",
     "text": [
      "[ 2 10  4]\n",
      "[2 3 4]\n"
     ]
    }
   ],
   "source": [
    "num = np.array([1,2,3,4,5])\n",
    "\n",
    "#슬라이싱 결과는 참조 독립적으로 사용하고 싶으면, copy()\n",
    "ref = num[1:4]\n",
    "cpy = num[1:4].copy()\n",
    "num[2]=10\n",
    "print(ref)\n",
    "print(cpy)"
   ]
  },
  {
   "cell_type": "code",
   "execution_count": 2,
   "metadata": {},
   "outputs": [
    {
     "name": "stdout",
     "output_type": "stream",
     "text": [
      "[[0. 0.]\n",
      " [0. 0.]]\n",
      "\n",
      "[[1. 1.]\n",
      " [1. 1.]]\n",
      "\n",
      "[[7 7]\n",
      " [7 7]]\n"
     ]
    }
   ],
   "source": [
    "#0으로 채운 배열, zeros\n",
    "print(np.zeros((2,2)))\n",
    "print()\n",
    "\n",
    "#1로 채운 배열, ones\n",
    "print(np.ones((2,2)))\n",
    "print()\n",
    "\n",
    "#특정 수로 채운 배열, full\n",
    "print(np.full((2,2), 7))"
   ]
  },
  {
   "cell_type": "code",
   "execution_count": 3,
   "metadata": {},
   "outputs": [
    {
     "name": "stdout",
     "output_type": "stream",
     "text": [
      "[[1. 0.]\n",
      " [0. 1.]]\n",
      "\n",
      "[[0. 1. 0.]\n",
      " [0. 0. 1.]\n",
      " [0. 0. 0.]]\n",
      "\n",
      "[[1. 0. 0.]\n",
      " [0. 1. 0.]\n",
      " [0. 0. 1.]]\n"
     ]
    }
   ],
   "source": [
    "#단위 행렬, eye\n",
    "print(np.eye(2))\n",
    "print()\n",
    "\n",
    "#대각선의 위치 이동\n",
    "print(np.eye(3, k=1))\n",
    "print()\n",
    "\n",
    "#단위 행렬, identity\n",
    "print(np.identity(3))"
   ]
  },
  {
   "cell_type": "code",
   "execution_count": 6,
   "metadata": {},
   "outputs": [
    {
     "name": "stdout",
     "output_type": "stream",
     "text": [
      "(array([0.  , 0.25, 0.5 , 0.75, 1.  ]), 0.25)\n",
      "\n",
      "[0.4 0.5 0.6 0.7 0.8 0.9 1. ]\n"
     ]
    }
   ],
   "source": [
    "#배열 생성 linespace(start, end, num=, endpoint=, retstep=) 자동적으로 step 설정\n",
    "print(np.linspace(0, 1, num=5, endpoint=True, retstep=True))\n",
    "print()\n",
    "\n",
    "#range(start, end, step) step 설정\n",
    "print(np.arange(0.4, 1.1, 0.1))"
   ]
  },
  {
   "cell_type": "code",
   "execution_count": 7,
   "metadata": {},
   "outputs": [
    {
     "name": "stdout",
     "output_type": "stream",
     "text": [
      "[[1 4]\n",
      " [2 5]\n",
      " [3 6]]\n",
      "\n",
      "[[1 2]\n",
      " [3 4]\n",
      " [5 6]]\n"
     ]
    }
   ],
   "source": [
    "num = np.array([[1,2,3],[4,5,6]])\n",
    "\n",
    "#transpose 첫번째 열이 첫번째 행으로 열과 행 전치\n",
    "print(num.T)\n",
    "print()\n",
    "\n",
    "#reshape 원소 순서를 지키면서 행렬의 크기만 변화\n",
    "print(num.reshape((3,2)))"
   ]
  },
  {
   "cell_type": "code",
   "execution_count": 12,
   "metadata": {},
   "outputs": [
    {
     "name": "stdout",
     "output_type": "stream",
     "text": [
      "[[1 4]\n",
      " [2 5]\n",
      " [3 6]]\n",
      "\n",
      "[[[ 1  2  3]\n",
      "  [ 7  8  9]]\n",
      "\n",
      " [[ 4  5  6]\n",
      "  [10 11 12]]]\n",
      "\n",
      "[[[ 1  4]\n",
      "  [ 2  5]\n",
      "  [ 3  6]]\n",
      "\n",
      " [[ 7 10]\n",
      "  [ 8 11]\n",
      "  [ 9 12]]]\n",
      "\n",
      "[[[ 1  7]\n",
      "  [ 4 10]]\n",
      "\n",
      " [[ 2  8]\n",
      "  [ 5 11]]\n",
      "\n",
      " [[ 3  9]\n",
      "  [ 6 12]]]\n"
     ]
    }
   ],
   "source": [
    "num = np.array([[1,2,3],[4,5,6]])\n",
    "print(num.swapaxes(0,1))\n",
    "print()\n",
    "\n",
    "#axis를 기준으로 stride만큼 건너뛰어 선택\n",
    "num3 = np.array([[[1,2,3],[4,5,6]],[[7,8,9],[10,11,12]]])\n",
    "print(num3.swapaxes(0,1))\n",
    "print()\n",
    "print(num3.swapaxes(1,2))\n",
    "print()\n",
    "print(num3.swapaxes(0,2))"
   ]
  },
  {
   "cell_type": "code",
   "execution_count": 14,
   "metadata": {},
   "outputs": [
    {
     "name": "stdout",
     "output_type": "stream",
     "text": [
      "[1 2 3 3 2 1]\n"
     ]
    }
   ],
   "source": [
    "x = np.array([1,2,3])\n",
    "y = np.array([3,2,1])\n",
    "\n",
    "#concatenate 함수의 인자를 리스트로\n",
    "print(np.concatenate([x,y]))"
   ]
  },
  {
   "cell_type": "code",
   "execution_count": 16,
   "metadata": {},
   "outputs": [
    {
     "name": "stdout",
     "output_type": "stream",
     "text": [
      "[[1 2 3]\n",
      " [4 5 6]\n",
      " [1 2 3]\n",
      " [4 5 6]]\n",
      "\n",
      "[[1 2 3 1 2 3]\n",
      " [4 5 6 4 5 6]]\n"
     ]
    }
   ],
   "source": [
    "grid = np.array([[1,2,3],[4,5,6]])\n",
    "\n",
    "#이차원 배열의 concat\n",
    "print(np.concatenate([grid, grid]))\n",
    "print()\n",
    "\n",
    "#가로 축으로 concat 하고 싶을 때\n",
    "print(np.concatenate([grid, grid], axis=1))"
   ]
  },
  {
   "cell_type": "code",
   "execution_count": 20,
   "metadata": {},
   "outputs": [
    {
     "name": "stdout",
     "output_type": "stream",
     "text": [
      "[[1 2 3]\n",
      " [4 5 6]\n",
      " [1 2 3]\n",
      " [4 5 6]]\n",
      "\n",
      "[[1 2 3 1 2 3]\n",
      " [4 5 6 4 5 6]]\n"
     ]
    }
   ],
   "source": [
    "#세로 축으로 concat\n",
    "print(np.vstack([grid, grid]))\n",
    "print()\n",
    "\n",
    "#가로 축으로 concat\n",
    "print(np.hstack([grid, grid]))"
   ]
  },
  {
   "cell_type": "code",
   "execution_count": 21,
   "metadata": {},
   "outputs": [
    {
     "name": "stdout",
     "output_type": "stream",
     "text": [
      "[0 1 2] [3 4] [5 6 7 8]\n"
     ]
    }
   ],
   "source": [
    "x = np.array([0,1,2,3,4,5,6,7,8])\n",
    "\n",
    "#index를 기준으로 split / index는 리스트 형태로 전달\n",
    "x1, x2, x3 = np.split(x, [3,5])\n",
    "print(x1, x2, x3)"
   ]
  },
  {
   "cell_type": "code",
   "execution_count": 27,
   "metadata": {},
   "outputs": [
    {
     "name": "stdout",
     "output_type": "stream",
     "text": [
      "[[0 1 2 3]\n",
      " [4 5 6 7]]\n",
      "\n",
      "[[ 8  9 10 11]\n",
      " [12 13 14 15]]\n"
     ]
    }
   ],
   "source": [
    "grid = np.arange(16).reshape((4,4))\n",
    "\n",
    "upper, lower = np.split(grid, [2]) #same as vsplit\n",
    "print(upper)\n",
    "print()\n",
    "print(lower)"
   ]
  },
  {
   "cell_type": "code",
   "execution_count": 25,
   "metadata": {},
   "outputs": [
    {
     "name": "stdout",
     "output_type": "stream",
     "text": [
      "[[0 1 2 3]\n",
      " [4 5 6 7]]\n",
      "\n",
      "[[ 8  9 10 11]\n",
      " [12 13 14 15]]\n"
     ]
    }
   ],
   "source": [
    "grid = np.arange(16).reshape((4,4))\n",
    "\n",
    "upper, lower = np.vsplit(grid, [2])\n",
    "print(upper)\n",
    "print()\n",
    "print(lower)"
   ]
  },
  {
   "cell_type": "code",
   "execution_count": 28,
   "metadata": {},
   "outputs": [
    {
     "name": "stdout",
     "output_type": "stream",
     "text": [
      "[[ 0  1]\n",
      " [ 4  5]\n",
      " [ 8  9]\n",
      " [12 13]]\n",
      "\n",
      "[[ 2  3]\n",
      " [ 6  7]\n",
      " [10 11]\n",
      " [14 15]]\n"
     ]
    }
   ],
   "source": [
    "grid = np.arange(16).reshape((4,4))\n",
    "\n",
    "upper, lower = np.split(grid, [2], axis=1) #same as hsplit\n",
    "print(upper)\n",
    "print()\n",
    "print(lower)"
   ]
  },
  {
   "cell_type": "code",
   "execution_count": 26,
   "metadata": {},
   "outputs": [
    {
     "name": "stdout",
     "output_type": "stream",
     "text": [
      "[[ 0  1]\n",
      " [ 4  5]\n",
      " [ 8  9]\n",
      " [12 13]]\n",
      "\n",
      "[[ 2  3]\n",
      " [ 6  7]\n",
      " [10 11]\n",
      " [14 15]]\n"
     ]
    }
   ],
   "source": [
    "grid = np.arange(16).reshape((4,4))\n",
    "\n",
    "left, right = np.hsplit(grid, [2])\n",
    "print(left)\n",
    "print()\n",
    "print(right)"
   ]
  },
  {
   "cell_type": "code",
   "execution_count": 29,
   "metadata": {},
   "outputs": [
    {
     "name": "stdout",
     "output_type": "stream",
     "text": [
      "[37.77777778 26.66666667 21.11111111 32.22222222 43.33333333]\n"
     ]
    }
   ],
   "source": [
    "arr = np.array([100,80,70,90,110])\n",
    "\n",
    "arr = (arr-32)*(5/9)\n",
    "print(arr)"
   ]
  },
  {
   "cell_type": "code",
   "execution_count": 32,
   "metadata": {},
   "outputs": [
    {
     "name": "stdout",
     "output_type": "stream",
     "text": [
      "72.0\n",
      "\n",
      "[65. 50. 70. 95. 80.]\n",
      "\n",
      "[80. 64.]\n"
     ]
    }
   ],
   "source": [
    "arr = np.array([[100,80,70,90,60],[30,20,70,100,100]])\n",
    "\n",
    "print(np.mean(arr))\n",
    "print()\n",
    "print(np.mean(arr, axis=0)) #세로축의 평균, 열의 평균\n",
    "print()\n",
    "print(np.mean(arr, axis=1)) #가로축의 평균, 행의 평균"
   ]
  },
  {
   "cell_type": "code",
   "execution_count": 36,
   "metadata": {},
   "outputs": [
    {
     "name": "stdout",
     "output_type": "stream",
     "text": [
      "[[5 0 3 3]\n",
      " [7 9 3 5]\n",
      " [2 4 7 6]]\n",
      "\n",
      "[4 2 2]\n"
     ]
    }
   ],
   "source": [
    "rng = np.random.RandomState(0)\n",
    "x = rng.randint(10, size=(3,4))\n",
    "print(x)\n",
    "print()\n",
    "print(np.count_nonzero(x<6, axis=1))"
   ]
  },
  {
   "cell_type": "code",
   "execution_count": 37,
   "metadata": {},
   "outputs": [
    {
     "name": "stdout",
     "output_type": "stream",
     "text": [
      "10\n"
     ]
    }
   ],
   "source": [
    "print(np.sum((x>=3)|(x<0))) #여러개의 조건을 걸고 싶을 때 비트 연산자 사용"
   ]
  }
 ],
 "metadata": {
  "kernelspec": {
   "display_name": "Python 3 (ipykernel)",
   "language": "python",
   "name": "python3"
  },
  "language_info": {
   "codemirror_mode": {
    "name": "ipython",
    "version": 3
   },
   "file_extension": ".py",
   "mimetype": "text/x-python",
   "name": "python",
   "nbconvert_exporter": "python",
   "pygments_lexer": "ipython3",
   "version": "3.8.13"
  },
  "vscode": {
   "interpreter": {
    "hash": "3b532794e33ddeb66fe9982d17f06a2f241535a7e04dbd1512ffb00471d6ae35"
   }
  }
 },
 "nbformat": 4,
 "nbformat_minor": 2
}
