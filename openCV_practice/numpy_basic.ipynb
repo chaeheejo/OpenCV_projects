{
 "cells": [
  {
   "cell_type": "code",
   "execution_count": 2,
   "metadata": {},
   "outputs": [
    {
     "name": "stdout",
     "output_type": "stream",
     "text": [
      "[1.15, 4, 2, 5, 3]\n",
      "<class 'list'>\n",
      "[1.15 4.   2.   5.   3.  ]\n",
      "<class 'numpy.ndarray'>\n"
     ]
    }
   ],
   "source": [
    "import numpy as np\n",
    "\n",
    "arr = [1.15, 4, 2, 5, 3] #타입이 일치하지 않을 경우, 상위 타입으로 호환\n",
    "n_arr = np.array(arr)\n",
    "\n",
    "print(arr) \n",
    "print(n_arr) "
   ]
  },
  {
   "cell_type": "code",
   "execution_count": 3,
   "metadata": {},
   "outputs": [
    {
     "name": "stdout",
     "output_type": "stream",
     "text": [
      "['1.15', 4, 2, 5, 3]\n",
      "<class 'list'>\n",
      "['1.15' '4' '2' '5' '3']\n",
      "<class 'numpy.ndarray'>\n"
     ]
    }
   ],
   "source": [
    "arr = ['1.15', 4, 2, 5, 3] #상위 타입, string으로 호환\n",
    "n_arr = np.array(arr)\n",
    "\n",
    "print(arr) \n",
    "print(n_arr) "
   ]
  },
  {
   "cell_type": "code",
   "execution_count": 4,
   "metadata": {},
   "outputs": [
    {
     "name": "stdout",
     "output_type": "stream",
     "text": [
      "[1, 4, 2, 5, 3]\n",
      "<class 'list'>\n",
      "[1. 4. 2. 5. 3.]\n",
      "<class 'numpy.ndarray'>\n"
     ]
    }
   ],
   "source": [
    "arr = [1, 4, 2, 5, 3] \n",
    "n_arr = np.array(arr, dtype='float32') #타입 지정, dtype\n",
    "\n",
    "print(arr) \n",
    "print(n_arr) "
   ]
  },
  {
   "cell_type": "code",
   "execution_count": 5,
   "metadata": {},
   "outputs": [
    {
     "name": "stdout",
     "output_type": "stream",
     "text": [
      "1\n",
      "1\n"
     ]
    }
   ],
   "source": [
    "num = np.array([1,4,2,3,4])\n",
    "\n",
    "#동일한 코드 ndim == len(num.shape)\n",
    "print(num.ndim)\n",
    "print(len(num.shape))"
   ]
  },
  {
   "cell_type": "code",
   "execution_count": 6,
   "metadata": {},
   "outputs": [
    {
     "name": "stdout",
     "output_type": "stream",
     "text": [
      "1\n",
      "0\n",
      "()\n"
     ]
    }
   ],
   "source": [
    "num = np.array(1)\n",
    "\n",
    "#인자 하나만 array에 넣으면 차원이 0\n",
    "print(num)\n",
    "print(num.ndim)\n",
    "print(num.shape)"
   ]
  },
  {
   "cell_type": "code",
   "execution_count": 9,
   "metadata": {},
   "outputs": [
    {
     "name": "stdout",
     "output_type": "stream",
     "text": [
      "[ 2 10  4]\n",
      "[2 3 4]\n"
     ]
    }
   ],
   "source": [
    "num = np.array([1,2,3,4,5])\n",
    "\n",
    "#슬라이싱 결과는 참조 독립적으로 사용하고 싶으면, copy()\n",
    "ref = num[1:4]\n",
    "cpy = num[1:4].copy()\n",
    "num[2]=10\n",
    "print(ref)\n",
    "print(cpy)"
   ]
  },
  {
   "cell_type": "code",
   "execution_count": 16,
   "metadata": {},
   "outputs": [
    {
     "name": "stdout",
     "output_type": "stream",
     "text": [
      "[[0. 0.]\n",
      " [0. 0.]]\n",
      "[[1. 1.]\n",
      " [1. 1.]]\n",
      "[[7 7]\n",
      " [7 7]]\n"
     ]
    }
   ],
   "source": [
    "#0으로 채운 배열, zeros\n",
    "print(np.zeros((2,2)))\n",
    "\n",
    "#1로 채운 배열, ones\n",
    "print(np.ones((2,2)))\n",
    "\n",
    "#특정 수로 채운 배열, full\n",
    "print(np.full((2,2), 7))"
   ]
  },
  {
   "cell_type": "code",
   "execution_count": 17,
   "metadata": {},
   "outputs": [
    {
     "name": "stdout",
     "output_type": "stream",
     "text": [
      "[[1. 0.]\n",
      " [0. 1.]]\n",
      "[[0. 1. 0.]\n",
      " [0. 0. 1.]\n",
      " [0. 0. 0.]]\n",
      "[[1. 0. 0.]\n",
      " [0. 1. 0.]\n",
      " [0. 0. 1.]]\n"
     ]
    }
   ],
   "source": [
    "#단위 행렬, eye\n",
    "print(np.eye(2))\n",
    "\n",
    "#대각선의 위치 이동\n",
    "print(np.eye(3, k=1))\n",
    "\n",
    "#단위 행렬, identity\n",
    "print(np.identity(3))"
   ]
  },
  {
   "cell_type": "code",
   "execution_count": 2,
   "metadata": {},
   "outputs": [
    {
     "name": "stdout",
     "output_type": "stream",
     "text": [
      "[0.   0.25 0.5  0.75 1.  ]\n",
      "[0.4 0.5 0.6 0.7 0.8 0.9 1. ]\n"
     ]
    }
   ],
   "source": [
    "#배열 생성 linespace(start, end, num=, endpoint=, retstep=) 자동적으로 step 설정\n",
    "print(np.linspace(0, 1, num=5, endpoint=True))\n",
    "\n",
    "#range(start, end, step) step 설정\n",
    "print(np.arange(0.4, 1.1, 0.1))"
   ]
  },
  {
   "cell_type": "code",
   "execution_count": null,
   "metadata": {},
   "outputs": [],
   "source": []
  }
 ],
 "metadata": {
  "kernelspec": {
   "display_name": "Python 3 (ipykernel)",
   "language": "python",
   "name": "python3"
  },
  "language_info": {
   "codemirror_mode": {
    "name": "ipython",
    "version": 3
   },
   "file_extension": ".py",
   "mimetype": "text/x-python",
   "name": "python",
   "nbconvert_exporter": "python",
   "pygments_lexer": "ipython3",
   "version": "3.8.13"
  },
  "vscode": {
   "interpreter": {
    "hash": "3b532794e33ddeb66fe9982d17f06a2f241535a7e04dbd1512ffb00471d6ae35"
   }
  }
 },
 "nbformat": 4,
 "nbformat_minor": 2
}
